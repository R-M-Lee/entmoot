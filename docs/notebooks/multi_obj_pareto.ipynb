{
 "cells": [
  {
   "cell_type": "markdown",
   "id": "6f01675f-cd1a-4712-9ca4-3cc1dbbd9056",
   "metadata": {},
   "source": [
    "## Example: Multiple Objective Optimization with Constraints\n",
    "`ENTMOOT` also supports multi-objective optimization according to:\n",
    "\n",
    "```\n",
    "@article{thebelt2022multi,\n",
    "  title={Multi-objective constrained optimization for energy applications via tree ensembles},\n",
    "  author={Thebelt, Alexander and Tsay, Calvin and Lee, Robert M and Sudermann-Merx, Nathan and Walz, David and Tranter, Tom and Misener, Ruth},\n",
    "  journal={Applied Energy},\n",
    "  volume={306},\n",
    "  pages={118061},\n",
    "  year={2022},\n",
    "  publisher={Elsevier}\n",
    "}\n",
    "```"
   ]
  },
  {
   "cell_type": "markdown",
   "id": "567ea5b7-f871-4ce3-8970-6f82728de9bf",
   "metadata": {
    "jupyter": {
     "outputs_hidden": true
    },
    "tags": []
   },
   "source": [
    "An example that derives Pareto-optimal points of the\n",
    "[Fonzeca Freming](https://en.wikipedia.org/wiki/Test_functions_for_optimization) is given in the\n",
    "following:"
   ]
  },
  {
   "cell_type": "markdown",
   "id": "20d1e71a-2eff-49d1-8d45-412ebdc5412a",
   "metadata": {},
   "source": [
    "Initialize the search space manually."
   ]
  },
  {
   "cell_type": "code",
   "execution_count": 2,
   "id": "311c88fa-f757-44f3-8ae5-555f715fc1b4",
   "metadata": {},
   "outputs": [],
   "source": [
    "from entmoot.benchmarks import FonzecaFleming\n",
    "from entmoot.optimizer import Optimizer\n",
    "\n",
    "# initialize multi-objective test function\n",
    "funcMulti = FonzecaFleming()\n",
    "\n",
    "# define optimizer object and specify num_obj=2\n",
    "opt = Optimizer(funcMulti.get_bounds(),\n",
    "                num_obj=2,\n",
    "                n_initial_points=10,\n",
    "                random_state=100)\n",
    "\n",
    "# main BO loop that derives pareto-optimal points\n",
    "for _ in range(50):\n",
    "    next_x = opt.ask()\n",
    "    next_y = funcMulti(next_x)\n",
    "    opt.tell(next_x,next_y)"
   ]
  },
  {
   "cell_type": "markdown",
   "id": "818791f2-9784-4b33-acf7-fba8a4747a93",
   "metadata": {},
   "source": [
    "Using multi-objective functionality in `ENTMOOT` requires the specification of `num_obj` which\n",
    "informs the solver about the number of objectives that we optimize for. `ENTMOOT` minimizes\n",
    "objectives which requires the modification of maximization problems, i.e. minimizing the\n",
    "negative objective.\n"
   ]
  }
 ],
 "metadata": {
  "kernelspec": {
   "display_name": "Python 3 (ipykernel)",
   "language": "python",
   "name": "python3"
  },
  "language_info": {
   "codemirror_mode": {
    "name": "ipython",
    "version": 3
   },
   "file_extension": ".py",
   "mimetype": "text/x-python",
   "name": "python",
   "nbconvert_exporter": "python",
   "pygments_lexer": "ipython3",
   "version": "3.8.5"
  }
 },
 "nbformat": 4,
 "nbformat_minor": 5
}
