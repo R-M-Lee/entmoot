{
 "cells": [
  {
   "cell_type": "markdown",
   "id": "6f01675f-cd1a-4712-9ca4-3cc1dbbd9056",
   "metadata": {
    "tags": []
   },
   "source": [
    "## Optimization with tuned surrogate hyperparameters"
   ]
  },
  {
   "cell_type": "markdown",
   "id": "567ea5b7-f871-4ce3-8970-6f82728de9bf",
   "metadata": {
    "jupyter": {
     "outputs_hidden": true
    },
    "tags": []
   },
   "source": [
    "Sometimes we want to carefully ensure that the tree ensemble we are using to build an optimization model has the right complexity. The default hyperparameters, like the number of trees, tree depth, and the minimum number of observations allowed in terminal leaves, may lead to over- or underfitting, resulting in the optimizer needing a larger number of expensive black-box function evaluations to find good experimental settings.\n",
    "\n",
    "We can easily improve the situation by tuning the tree ensemble parameters with cross validation. We can do this as often as we please - the minimal approach would be to tune the hyperparameters once before the first proposal and retain those hyperparameters for all other iterations. If we are willing to wait, on the other hand, we could retune the hyperparameters after every iteration."
   ]
  },
  {
   "cell_type": "markdown",
   "id": "442e785d",
   "metadata": {},
   "source": [
    "### Environment setup\n",
    "\n",
    "The optimization problem in this example can get too large to solve with the free version of Gurobi, so here we use a server running in the cloud. We use .env to store the cloud credentials so that no secret information appears in this example. I also have a `gurobi.env` file in the current working directory containing the line `OutputFlag 0` to suppress output, since we are calling Gurobi lots of times in this example."
   ]
  },
  {
   "cell_type": "code",
   "execution_count": 97,
   "id": "f1ff0183",
   "metadata": {},
   "outputs": [],
   "source": [
    "from dotenv import load_dotenv\n",
    "import os\n",
    "\n",
    "# Define the Gurobi server access parameters in a .env file\n",
    "# load_dotenv reads from .env and defines the environment variables\n",
    "# we use below\n",
    "load_dotenv()\n",
    "\n",
    "# You can also just define this dict directly, but it's good practise to avoid\n",
    "# having the credentials hard-coded or visible in plaintext\n",
    "connection_params = {\n",
    "    \"CLOUDACCESSID\": os.getenv(\"CLOUDACCESSID\"),\n",
    "    \"CLOUDSECRETKEY\": os.getenv(\"CLOUDSECRETKEY\"),\n",
    "    \"CLOUDPOOL\": os.getenv(\"CLOUDPOOL\"),\n",
    "}"
   ]
  },
  {
   "cell_type": "markdown",
   "id": "68dddb1e",
   "metadata": {},
   "source": [
    "### Problem setup\n",
    "\n",
    "First we will construct a problem by hand. We will have a function to simulate doing experiments; in real applications this would be some expensive experiment or simulation."
   ]
  },
  {
   "cell_type": "code",
   "execution_count": 98,
   "id": "8af87711",
   "metadata": {},
   "outputs": [],
   "source": [
    "import numpy as np\n",
    "\n",
    "\n",
    "def blackbox_ground_truth(x: np.ndarray) -> np.ndarray:\n",
    "    \"\"\"Get the ground truth response for each observation in a dataset\n",
    "\n",
    "    The input array is N_observations x N_input_features and the output\n",
    "    of this function is a column vector with N_observations elements\n",
    "\n",
    "    Note for Nathan: I think this problem I invented is not a good one \n",
    "    to demonstrate GBT complexity. I'm sure you have a better idea.\n",
    "    \"\"\"\n",
    "\n",
    "    def evaluate_blackbox_single_obs(xin, noise_std=0.1):\n",
    "        if xin[0] == \"add1\":\n",
    "            return np.random.normal(loc=0, scale=noise_std) - xin[2]*np.exp(\n",
    "                -((xin[3] - 5.5) ** 2) / (2 * 0.2)\n",
    "            )\n",
    "        if xin[0] == \"add2\":\n",
    "            return (\n",
    "                xin[1] / 10\n",
    "                + 0.5*xin[1]*np.cos(xin[3] * 12) * (xin[3] - 5.75)**2\n",
    "                + np.random.normal(loc=0, scale=noise_std)\n",
    "            )\n",
    "        if xin[0] == \"add3\":\n",
    "            return (\n",
    "                xin[2]\n",
    "                + np.random.normal(loc=0, scale=noise_std)\n",
    "            )\n",
    "\n",
    "    return np.array([evaluate_blackbox_single_obs(xobs) for xobs in x]).reshape(-1, 1)"
   ]
  },
  {
   "cell_type": "markdown",
   "id": "67c9ce4c",
   "metadata": {},
   "source": [
    "Next we generate an initial training data set and put the ProblemConfig object together."
   ]
  },
  {
   "cell_type": "code",
   "execution_count": 99,
   "id": "cae5fecd-f30c-4a5c-966e-c14008a1af8a",
   "metadata": {},
   "outputs": [],
   "source": [
    "from entmoot import Enting, ProblemConfig, GurobiOptimizer\n",
    "import numpy as np\n",
    "\n",
    "\n",
    "# define problem\n",
    "problem_config = ProblemConfig(rnd_seed=10)\n",
    "problem_config.add_feature(\"categorical\", (\"add1\", \"add2\", \"add3\"))\n",
    "problem_config.add_feature(\"integer\", (5, 10))\n",
    "problem_config.add_feature(\"binary\")\n",
    "problem_config.add_feature(\"real\", (5.0, 6.0))\n",
    "problem_config.add_min_objective()\n",
    "\n",
    "# sample data for training. This is the intial dataset from before the\n",
    "# iterative optimization started\n",
    "N_init_samples = 30\n",
    "rnd_sample = problem_config.get_rnd_sample_list(num_samples=N_init_samples)\n",
    "rnd_sample_outcomes = blackbox_ground_truth(rnd_sample)"
   ]
  },
  {
   "cell_type": "markdown",
   "id": "7ba17441",
   "metadata": {},
   "source": [
    "### Optimization with default hyperparameters\n",
    "\n",
    "To show the effect of tuned vs default hyperparameters we will perform the optimization two times. Here we leave the tree ensemble hyperparameters untouched and perform 50 Bayesian optimization iterations."
   ]
  },
  {
   "cell_type": "code",
   "execution_count": 100,
   "id": "3bb5fea4",
   "metadata": {},
   "outputs": [
    {
     "name": "stderr",
     "output_type": "stream",
     "text": [
      "C:\\Users\\leer8\\dev\\entmootv2_testing\\entmoot\\entmoot\\models\\mean_models\\tree_ensemble.py:23: UserWarning: No 'train_params' for tree ensemble training specified. Switch training to default params!\n",
      "  warnings.warn(\n"
     ]
    }
   ],
   "source": [
    "from itertools import chain\n",
    "import gurobipy as gp\n",
    "\n",
    "N_iterations = 50\n",
    "params = {\"unc_params\": {\"dist_metric\": \"l1\", \"acq_sense\": \"exploration\", \"beta\": 1.5}}\n",
    "enting = Enting(problem_config, params=params)\n",
    "params_gurobi = {\"MIPGap\": 0}\n",
    "opt_gur = GurobiOptimizer(problem_config, params=params_gurobi)\n",
    "\n",
    "# Remember the proposals and outcomes in these variables\n",
    "opt_trajectory_inputs = []\n",
    "opt_trajectory_outputs = np.empty((N_iterations, 1))\n",
    "\n",
    "# The context manager here is needed for the Gurobi cloud server\n",
    "with gp.Env(params=connection_params) as env:\n",
    "    for idx in range(N_iterations):\n",
    "        # Put together the initial dataset and any optimization iterations\n",
    "        # we have done so far\n",
    "        x = [_ for _ in chain(rnd_sample, opt_trajectory_inputs)]\n",
    "        y = np.concatenate(\n",
    "            (rnd_sample_outcomes, opt_trajectory_outputs[:idx, :]), axis=0\n",
    "        )\n",
    "\n",
    "        enting.fit(x, y)\n",
    "        res_gur = opt_gur.solve(enting, use_env=True)\n",
    "\n",
    "        opt_trajectory_inputs.append(tuple(xopt for xopt in res_gur.opt_point))\n",
    "        opt_trajectory_outputs[idx, 0] = blackbox_ground_truth(opt_trajectory_inputs)[-1,0]"
   ]
  },
  {
   "cell_type": "markdown",
   "id": "8c23dac5",
   "metadata": {},
   "source": [
    "Let's see how the optimization went."
   ]
  },
  {
   "cell_type": "code",
   "execution_count": 109,
   "id": "7e6bc932",
   "metadata": {},
   "outputs": [
    {
     "data": {
      "image/png": "[encoded data removed]",
      "text/plain": [
       "<Figure size 640x480 with 1 Axes>"
      ]
     },
     "metadata": {},
     "output_type": "display_data"
    }
   ],
   "source": [
    "import matplotlib.pyplot as plt\n",
    "\n",
    "fig, ax = plt.subplots(1, 1)\n",
    "ax.plot(np.arange(N_init_samples), rnd_sample_outcomes, \"o\", label=\"Initial training data\")\n",
    "ax.plot([N_init_samples - 0.5, N_init_samples - 0.5], [-1, 4], \"--\")\n",
    "ax.plot(np.arange(N_iterations) + N_init_samples, opt_trajectory_outputs, \"o\", label=\"ENTMOOT proposals\")\n",
    "ax.set_xlabel(\"Iteration\")\n",
    "ax.set_ylabel(\"Objective (minimize)\")\n",
    "ax.set_title(\"Optimization with default tree ensemble hyperparameters\")\n",
    "ax.legend()\n",
    "plt.show()"
   ]
  },
  {
   "cell_type": "markdown",
   "id": "7b88056d-e265-4097-9711-6bdcec723b44",
   "metadata": {},
   "source": [
    "### Improving the tree ensemble hyperparameters\n",
    "\n",
    "Now we take the initial dataset and try a few different hyperparameter combinations for the boosted tree model. We'll keep the best ones we find, run the optimization again, and see what performance we get. We will use the cross validation error to evaluate the quality of each hyperparameter combination.\n",
    "\n",
    "First we define the random hyperparameter values that we will try:"
   ]
  },
  {
   "cell_type": "code",
   "execution_count": 102,
   "id": "311c88fa-f757-44f3-8ae5-555f715fc1b4",
   "metadata": {
    "tags": []
   },
   "outputs": [],
   "source": [
    "N_hyperpar_pts = 100\n",
    "\n",
    "boosting_rounds = np.random.randint(\n",
    "    low=np.ones(N_hyperpar_pts) * 40, high=np.ones(N_hyperpar_pts) * 500\n",
    ")\n",
    "max_depths = np.random.randint(\n",
    "    low=np.ones(N_hyperpar_pts) * 1, high=np.ones(N_hyperpar_pts) * 5\n",
    ")\n",
    "min_data_in_leafs = np.random.randint(\n",
    "    low=np.ones(N_hyperpar_pts) * 1, high=np.ones(N_hyperpar_pts) * 5\n",
    ")\n",
    "learning_rates = 10 ** (-np.random.random(N_hyperpar_pts) * 5)\n",
    "\n",
    "params_to_try = [\n",
    "    {\n",
    "        \"train_params\": {\n",
    "            \"objective\": \"regression\",\n",
    "            \"metric\": \"rmse\",\n",
    "            \"boosting\": \"gbdt\",\n",
    "            \"num_boost_round\": nbr,\n",
    "            \"max_depth\": md,\n",
    "            \"min_data_in_leaf\": mdil,\n",
    "            \"min_data_per_group\": 1,\n",
    "            \"learning_rate\": lr,\n",
    "            \"verbose\": -1,\n",
    "        }\n",
    "    }\n",
    "    for nbr, md, mdil, lr in zip(\n",
    "        boosting_rounds, max_depths, min_data_in_leafs, learning_rates\n",
    "    )\n",
    "]"
   ]
  },
  {
   "cell_type": "markdown",
   "id": "ef47ea36",
   "metadata": {},
   "source": [
    "Then we perform cross validation using each of these hyperparameter combinations."
   ]
  },
  {
   "cell_type": "code",
   "execution_count": 103,
   "id": "c96955c6",
   "metadata": {},
   "outputs": [],
   "source": [
    "from sklearn.model_selection import KFold\n",
    "\n",
    "N_folds = 10\n",
    "kf = KFold(N_folds)\n",
    "\n",
    "# cv_errs stores the sum of squared errors from CV predictions\n",
    "cv_errs = np.empty(N_hyperpar_pts)\n",
    "\n",
    "for i_hyper, hyperpars in enumerate(params_to_try):\n",
    "    params = {\n",
    "        \"unc_params\": {\"dist_metric\": \"l1\", \"acq_sense\": \"exploration\"},\n",
    "        \"tree_train_params\": hyperpars,\n",
    "    }\n",
    "    enting = Enting(problem_config, params=params)\n",
    "    fold_errs = np.empty(N_folds)\n",
    "    for i, (train_index, test_index) in enumerate(kf.split(rnd_sample)):\n",
    "        xtrain = [rnd_sample[ti] for ti in train_index]\n",
    "        ytrain = rnd_sample_outcomes[train_index]\n",
    "        xtest = [rnd_sample[ti] for ti in test_index]\n",
    "        ytest = rnd_sample_outcomes[test_index]\n",
    "\n",
    "        enting.fit(xtrain, ytrain)\n",
    "        test_preds = enting.predict(xtest)\n",
    "        test_means = [yrow[0][0] for yrow in test_preds]\n",
    "        dev = test_means - np.ravel(ytest)\n",
    "        fold_errs[i] = np.linalg.norm(dev)\n",
    "    cv_errs[i_hyper] = np.sum(fold_errs**2)\n",
    "\n",
    "best_hyperparas = params_to_try[np.argmin(cv_errs)]"
   ]
  },
  {
   "cell_type": "code",
   "execution_count": 104,
   "id": "3aa5d8bf",
   "metadata": {},
   "outputs": [
    {
     "name": "stdout",
     "output_type": "stream",
     "text": [
      "('objective', 'regression')\n",
      "('metric', 'rmse')\n",
      "('boosting', 'gbdt')\n",
      "('num_boost_round', 89)\n",
      "('max_depth', 3)\n",
      "('min_data_in_leaf', 1)\n",
      "('min_data_per_group', 1)\n",
      "('learning_rate', 0.22505649929101107)\n",
      "('verbose', -1)\n"
     ]
    }
   ],
   "source": [
    "for dict_item in best_hyperparas[\"train_params\"].items():\n",
    "    print(dict_item) "
   ]
  },
  {
   "cell_type": "markdown",
   "id": "06948a11",
   "metadata": {},
   "source": [
    "Compare this with the defaults:"
   ]
  },
  {
   "cell_type": "code",
   "execution_count": 105,
   "id": "0f5fc8f9",
   "metadata": {},
   "outputs": [
    {
     "name": "stdout",
     "output_type": "stream",
     "text": [
      "('objective', 'regression')\n",
      "('metric', 'rmse')\n",
      "('boosting', 'gbdt')\n",
      "('num_boost_round', 100)\n",
      "('max_depth', 3)\n",
      "('min_data_in_leaf', 1)\n",
      "('min_data_per_group', 1)\n",
      "('verbose', -1)\n",
      "('random_state', 10)\n"
     ]
    },
    {
     "name": "stderr",
     "output_type": "stream",
     "text": [
      "C:\\Users\\leer8\\dev\\entmootv2_testing\\entmoot\\entmoot\\models\\mean_models\\tree_ensemble.py:23: UserWarning: No 'train_params' for tree ensemble training specified. Switch training to default params!\n",
      "  warnings.warn(\n"
     ]
    }
   ],
   "source": [
    "from entmoot.models.mean_models.tree_ensemble import TreeEnsemble\n",
    "tree_ensemble = TreeEnsemble(problem_config)\n",
    "for dict_item in tree_ensemble._train_params.items():\n",
    "    print(dict_item)"
   ]
  },
  {
   "cell_type": "markdown",
   "id": "a55c7870",
   "metadata": {},
   "source": [
    "### Optimization with tuned hyperparameters\n",
    "\n",
    "We duplicate a little of the code above and optimize again with the freshly chosen tree ensemble hyperparameters."
   ]
  },
  {
   "cell_type": "code",
   "execution_count": 106,
   "id": "ab231fe1",
   "metadata": {},
   "outputs": [],
   "source": [
    "N_iterations = 50\n",
    "params = {\n",
    "    \"unc_params\": {\"dist_metric\": \"l1\", \"acq_sense\": \"exploration\", \"beta\": 1.5},\n",
    "    \"tree_train_params\": best_hyperparas,\n",
    "}\n",
    "enting = Enting(problem_config, params=params)\n",
    "opt_trajectory_inputs_tuned = []\n",
    "opt_trajectory_outputs_tuned = np.empty((N_iterations, 1))\n",
    "params_gurobi = {\"MIPGap\": 0}\n",
    "opt_gur = GurobiOptimizer(problem_config, params=params_gurobi)\n",
    "\n",
    "with gp.Env(params=connection_params) as env:\n",
    "    for idx in range(N_iterations):\n",
    "        x = [_ for _ in chain(rnd_sample, opt_trajectory_inputs_tuned)]\n",
    "        y = np.concatenate(\n",
    "            (rnd_sample_outcomes, opt_trajectory_outputs_tuned[:idx, :]), axis=0\n",
    "        )\n",
    "\n",
    "        enting.fit(x, y)\n",
    "        res_gur = opt_gur.solve(enting, use_env=True)\n",
    "\n",
    "        opt_trajectory_inputs_tuned.append(tuple(xopt for xopt in res_gur.opt_point))\n",
    "        opt_trajectory_outputs_tuned[idx, 0] = blackbox_ground_truth(\n",
    "            opt_trajectory_inputs_tuned\n",
    "        )[-1][0]"
   ]
  },
  {
   "cell_type": "markdown",
   "id": "32e45b3e",
   "metadata": {},
   "source": [
    "### Visualizing the outcomes\n",
    "\n",
    "Now we can plot both of our optimization experiments together. Let's find out if the tuned surrogate showed the better performance that we want. We would have to repeat this many times with different random seeds (and initial datasets) to get a robust conclusion."
   ]
  },
  {
   "cell_type": "code",
   "execution_count": 107,
   "id": "c2e6e21b",
   "metadata": {},
   "outputs": [
    {
     "data": {
      "text/plain": [
       "<matplotlib.legend.Legend at 0x203aa1820d0>"
      ]
     },
     "execution_count": 107,
     "metadata": {},
     "output_type": "execute_result"
    },
    {
     "data": {
      "image/png": "[encoded data removed]",
      "text/plain": [
       "<Figure size 640x480 with 1 Axes>"
      ]
     },
     "metadata": {},
     "output_type": "display_data"
    }
   ],
   "source": [
    "fig, ax = plt.subplots(1, 1)\n",
    "ax.plot(\n",
    "    np.arange(N_init_samples), rnd_sample_outcomes, \"o\", label=\"Initial training data\"\n",
    ")\n",
    "ax.plot([N_init_samples - 0.5, N_init_samples - 0.5], [-1, 4], \"--\")\n",
    "ax.plot(\n",
    "    np.arange(N_iterations) + N_init_samples,\n",
    "    opt_trajectory_outputs,\n",
    "    \"ob\",\n",
    "    label=\"ENTMOOT (default)\",\n",
    ")\n",
    "ax.plot(\n",
    "    np.arange(N_iterations) + N_init_samples,\n",
    "    opt_trajectory_outputs_tuned,\n",
    "    \"og\",\n",
    "    label=\"ENTMOOT (tuned)\",\n",
    ")\n",
    "ax.plot(\n",
    "    np.arange(N_iterations) + N_init_samples,\n",
    "    np.minimum.accumulate(opt_trajectory_outputs),\n",
    "    \"-b\",\n",
    "    label=None,\n",
    ")\n",
    "ax.plot(\n",
    "    np.arange(N_iterations) + N_init_samples,\n",
    "    np.minimum.accumulate(opt_trajectory_outputs_tuned),\n",
    "    \"-g\",\n",
    "    label=None,\n",
    ")\n",
    "ax.set_xlabel(\"Iteration\")\n",
    "ax.set_ylabel(\"Objective (minimize)\")\n",
    "ax.set_title(\"Optimization with default tree ensemble hyperparameters\")\n",
    "ax.legend()\n",
    "plt.show()"
   ]
  },
  {
   "cell_type": "code",
   "execution_count": null,
   "id": "f431451d",
   "metadata": {},
   "outputs": [],
   "source": []
  }
 ],
 "metadata": {
  "kernelspec": {
   "display_name": "Python 3 (ipykernel)",
   "language": "python",
   "name": "python3"
  },
  "language_info": {
   "codemirror_mode": {
    "name": "ipython",
    "version": 3
   },
   "file_extension": ".py",
   "mimetype": "text/x-python",
   "name": "python",
   "nbconvert_exporter": "python",
   "pygments_lexer": "ipython3",
   "version": "3.9.17"
  }
 },
 "nbformat": 4,
 "nbformat_minor": 5
}
