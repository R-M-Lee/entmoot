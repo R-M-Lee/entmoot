{
 "cells": [
  {
   "cell_type": "markdown",
   "id": "6f01675f-cd1a-4712-9ca4-3cc1dbbd9056",
   "metadata": {},
   "source": [
    "## Example: Single Objective Optimization with Constraints\n",
    "The following example shows how own constraints can be enforced on the input\n",
    "variables. This only works when Gurobi is selected as the solution strategy,\n",
    " i. e. `acq_optimizer=\"global\"`. Constraints are formulated according to\n",
    " [documentation](https://www.gurobi.com/documentation/9.0/refman/py_model_addconstr.html)."
   ]
  },
  {
   "cell_type": "code",
   "execution_count": 1,
   "id": "4c8da843-670c-4f07-bd66-471ec19d3601",
   "metadata": {
    "tags": []
   },
   "outputs": [],
   "source": [
    "from entmoot.optimizer.optimizer import Optimizer\n",
    "from entmoot.benchmarks import SimpleCat\n",
    "\n",
    "func = SimpleCat()"
   ]
  },
  {
   "cell_type": "markdown",
   "id": "20d1e71a-2eff-49d1-8d45-412ebdc5412a",
   "metadata": {},
   "source": [
    "Initialize the search space manually."
   ]
  },
  {
   "cell_type": "code",
   "execution_count": 2,
   "id": "311c88fa-f757-44f3-8ae5-555f715fc1b4",
   "metadata": {},
   "outputs": [],
   "source": [
    "from entmoot.space.space import Space\n",
    "space = Space(func.get_bounds())"
   ]
  },
  {
   "cell_type": "markdown",
   "id": "818791f2-9784-4b33-acf7-fba8a4747a93",
   "metadata": {},
   "source": [
    "get the core of the gurobi model from helper function 'get_core_gurobi_model'"
   ]
  },
  {
   "cell_type": "code",
   "execution_count": 3,
   "id": "c0dc70de-f14f-42a4-9202-0e4777d33bec",
   "metadata": {},
   "outputs": [],
   "source": [
    "from entmoot.optimizer.gurobi_utils import get_core_gurobi_model\n",
    "core_model = get_core_gurobi_model(space)"
   ]
  },
  {
   "cell_type": "markdown",
   "id": "ae8f39bd-224d-4bd7-9b6b-5bbc6a01d355",
   "metadata": {},
   "source": [
    "ordering of variable indices is dependent on space definition"
   ]
  },
  {
   "cell_type": "markdown",
   "id": "ccdd059c-c8cb-4c40-aed1-7223a9e4dab2",
   "metadata": {},
   "source": [
    "cont_var_dict contains all continuous variables"
   ]
  },
  {
   "cell_type": "code",
   "execution_count": 4,
   "id": "61a8e860-92ee-4535-ad73-9b2acf132ad8",
   "metadata": {},
   "outputs": [],
   "source": [
    "x0 = core_model._cont_var_dict[0]\n",
    "x1 = core_model._cont_var_dict[1]"
   ]
  },
  {
   "cell_type": "markdown",
   "id": "c0d9a901-c7b4-46d9-a932-f1b2292476cb",
   "metadata": {},
   "source": [
    "cat_var_dict contains all categorical variables"
   ]
  },
  {
   "cell_type": "code",
   "execution_count": 5,
   "id": "4ae2f026-dded-4376-866b-6ca34adc5bf9",
   "metadata": {},
   "outputs": [],
   "source": [
    "x2 = core_model._cat_var_dict[2]"
   ]
  },
  {
   "cell_type": "markdown",
   "id": "89a7bfd1-5487-4abf-a168-ed7a927fed92",
   "metadata": {},
   "source": [
    "define constraints accordingly"
   ]
  },
  {
   "cell_type": "code",
   "execution_count": 6,
   "id": "d25b193d-eb94-4fe2-9d7b-c32b5dd56e59",
   "metadata": {},
   "outputs": [],
   "source": [
    "core_model.addConstr(x0 + x1 >= 2)\n",
    "core_model.addConstr(x1 == 1)\n",
    "core_model.update()"
   ]
  },
  {
   "cell_type": "markdown",
   "id": "857e95dd-53c5-41b7-a6da-a19ceb20f2b5",
   "metadata": {},
   "source": [
    "Define Optimizer object"
   ]
  },
  {
   "cell_type": "code",
   "execution_count": 7,
   "id": "77f0ed7f-5772-4e4b-aaaf-d4013dacd925",
   "metadata": {},
   "outputs": [],
   "source": [
    "opt = Optimizer(func.get_bounds(),\n",
    "                base_estimator=\"ENTING\",\n",
    "                n_initial_points=0,\n",
    "                initial_point_generator=\"random\",\n",
    "                acq_func=\"LCB\",\n",
    "                acq_optimizer=\"global\",\n",
    "                random_state=100,\n",
    "                acq_func_kwargs=None,\n",
    "                acq_optimizer_kwargs={\n",
    "                    \"add_model_core\": core_model\n",
    "                },\n",
    "                model_queue_size=None,\n",
    "                base_estimator_kwargs={\n",
    "                    \"lgbm_params\": {\"min_child_samples\": 1}\n",
    "                },\n",
    "                verbose=True,\n",
    "                )"
   ]
  },
  {
   "cell_type": "markdown",
   "id": "0f51130e-d13f-4919-981d-25960e0d7977",
   "metadata": {},
   "source": [
    "add initial points that are feasible"
   ]
  },
  {
   "cell_type": "code",
   "execution_count": 8,
   "id": "1c7eaf00-2353-4d52-b969-b588b06a6211",
   "metadata": {},
   "outputs": [],
   "source": [
    "for x in [(1.1, 1.0, 'mult6'), (1.2, 1.0, 'mult6'), (1.3, 1.0, 'pow2')]:\n",
    "    opt.tell(x, func(x))"
   ]
  },
  {
   "cell_type": "markdown",
   "id": "4f748ec2-1cd8-4339-a63e-23397257a929",
   "metadata": {},
   "source": [
    "run optimizer for 20 iterations"
   ]
  },
  {
   "cell_type": "code",
   "execution_count": 9,
   "id": "97d8bbf4-f08c-4372-9af4-6e1bf3093a89",
   "metadata": {},
   "outputs": [
    {
     "name": "stderr",
     "output_type": "stream",
     "text": [
      " 15%|████████████████▏                                                                                           | 3/20 [00:00<00:00, 22.16it/s]"
     ]
    },
    {
     "name": "stdout",
     "output_type": "stream",
     "text": [
      "\n",
      "SOLVER: initial points exhausted\n",
      "   -> switch to model-based optimization\n"
     ]
    },
    {
     "name": "stderr",
     "output_type": "stream",
     "text": [
      "100%|███████████████████████████████████████████████████████████████████████████████████████████████████████████| 20/20 [00:02<00:00,  8.40it/s]"
     ]
    },
    {
     "name": "stdout",
     "output_type": "stream",
     "text": [
      "-> best solution found 4.0\n"
     ]
    },
    {
     "name": "stderr",
     "output_type": "stream",
     "text": [
      "\n"
     ]
    }
   ],
   "source": [
    "res = opt.run(func, n_iter=20)\n",
    "print(f\"-> best solution found {res.fun}\")"
   ]
  }
 ],
 "metadata": {
  "kernelspec": {
   "display_name": "Python 3 (ipykernel)",
   "language": "python",
   "name": "python3"
  },
  "language_info": {
   "codemirror_mode": {
    "name": "ipython",
    "version": 3
   },
   "file_extension": ".py",
   "mimetype": "text/x-python",
   "name": "python",
   "nbconvert_exporter": "python",
   "pygments_lexer": "ipython3",
   "version": "3.8.5"
  }
 },
 "nbformat": 4,
 "nbformat_minor": 5
}
